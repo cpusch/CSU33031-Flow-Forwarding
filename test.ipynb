{
 "cells": [
  {
   "cell_type": "code",
   "execution_count": 34,
   "metadata": {},
   "outputs": [],
   "source": [
    "import os\n",
    "import re"
   ]
  },
  {
   "cell_type": "code",
   "execution_count": 2,
   "metadata": {},
   "outputs": [],
   "source": [
    "ROUTING_TABLE = [\n",
    "    # COLUMES ARE : \n",
    "    # DEST, SRC, ROUTER, IN, OUT\n",
    "    ['E1','E3','R3','E3','R1'],\n",
    "    ['E1','E3','R1','R3','E1'],\n",
    "    ['E1','E2','R2','E2','R1'],\n",
    "    ['E1','E2','R1','R2','E1'],\n",
    "    ['E2','E1','R1','E1','R2'],\n",
    "    ['E2','E1','R2','R1','E2'],\n",
    "    ['E2','E3','R3','E3','R2'],\n",
    "    ['E2','E3','R2','R3','E2'],\n",
    "    ['E3','E1','R1','E1','R3'],\n",
    "    ['E3','E1','R3','R1','E3'],\n",
    "    ['E3','E2','R2','E2','R3'],\n",
    "    ['E3','E2','R3','R2','E3'],\n",
    "]"
   ]
  },
  {
   "cell_type": "code",
   "execution_count": 28,
   "metadata": {},
   "outputs": [],
   "source": [
    "temp = str(ROUTING_TABLE[0])"
   ]
  },
  {
   "cell_type": "code",
   "execution_count": 36,
   "metadata": {},
   "outputs": [
    {
     "data": {
      "text/plain": [
       "'E1,E3,R3,E3,R1'"
      ]
     },
     "execution_count": 36,
     "metadata": {},
     "output_type": "execute_result"
    }
   ],
   "source": [
    "re.sub(\"[\\[\\]\\s']\", \"\", temp)"
   ]
  },
  {
   "cell_type": "code",
   "execution_count": 10,
   "metadata": {},
   "outputs": [],
   "source": [
    "ROUTING_DICT = {}\n",
    "for row in ROUTING_TABLE:\n",
    "    ROUTING_DICT[(row[0],row[3])] = [row[1],row[2],row[4]]"
   ]
  },
  {
   "cell_type": "code",
   "execution_count": 22,
   "metadata": {},
   "outputs": [
    {
     "name": "stdout",
     "output_type": "stream",
     "text": [
      "['E3', 'R3', 'R1']\n",
      "['E3', 'R1', 'E1']\n",
      "['E2', 'R2', 'R1']\n",
      "['E2', 'R1', 'E1']\n"
     ]
    }
   ],
   "source": [
    "for key, info in ROUTING_DICT.items():\n",
    "    if key[0] == 'E1':\n",
    "        print(ROUTING_DICT[key])"
   ]
  },
  {
   "cell_type": "code",
   "execution_count": null,
   "metadata": {},
   "outputs": [],
   "source": []
  }
 ],
 "metadata": {
  "kernelspec": {
   "display_name": "Python 3.10.6 64-bit",
   "language": "python",
   "name": "python3"
  },
  "language_info": {
   "codemirror_mode": {
    "name": "ipython",
    "version": 3
   },
   "file_extension": ".py",
   "mimetype": "text/x-python",
   "name": "python",
   "nbconvert_exporter": "python",
   "pygments_lexer": "ipython3",
   "version": "3.10.6"
  },
  "orig_nbformat": 4,
  "vscode": {
   "interpreter": {
    "hash": "916dbcbb3f70747c44a77c7bcd40155683ae19c65e1c03b4aa3499c5328201f1"
   }
  }
 },
 "nbformat": 4,
 "nbformat_minor": 2
}
